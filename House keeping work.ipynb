{
 "cells": [
  {
   "cell_type": "code",
   "execution_count": 2,
   "metadata": {},
   "outputs": [
    {
     "name": "stdout",
     "output_type": "stream",
     "text": [
      "Package                Version  \n",
      "---------------------- ---------\n",
      "backcall               0.1.0    \n",
      "bleach                 2.1.3    \n",
      "certifi                2018.1.18\n",
      "chardet                3.0.4    \n",
      "colorama               0.3.9    \n",
      "cycler                 0.10.0   \n",
      "decorator              4.3.0    \n",
      "entrypoints            0.2.3    \n",
      "get                    1.0.2    \n",
      "html5lib               1.0.1    \n",
      "httpie                 0.9.9    \n",
      "idna                   2.6      \n",
      "ipykernel              4.8.2    \n",
      "ipython                6.4.0    \n",
      "ipython-genutils       0.2.0    \n",
      "ipywidgets             7.2.1    \n",
      "jedi                   0.12.0   \n",
      "Jinja2                 2.10     \n",
      "jsonschema             2.6.0    \n",
      "jupyter                1.0.0    \n",
      "jupyter-client         5.2.3    \n",
      "jupyter-console        5.2.0    \n",
      "jupyter-core           4.4.0    \n",
      "kiwisolver             1.0.1    \n",
      "MarkupSafe             1.0      \n",
      "matplotlib             2.2.2    \n",
      "mistune                0.8.3    \n",
      "mysql-connector-python 8.0.6    \n",
      "nbconvert              5.3.1    \n",
      "nbformat               4.4.0    \n",
      "notebook               5.5.0    \n",
      "numpy                  1.14.5   \n",
      "pandas                 0.23.1   \n",
      "pandocfilters          1.4.2    \n",
      "parso                  0.2.1    \n",
      "pickleshare            0.7.4    \n",
      "pip                    10.0.1   \n",
      "post                   1.0.1    \n",
      "prompt-toolkit         1.0.15   \n",
      "public                 1.0.1    \n",
      "Pygments               2.2.0    \n",
      "pyparsing              2.2.0    \n",
      "python-dateutil        2.7.3    \n",
      "pytz                   2018.4   \n",
      "pywinpty               0.5.4    \n",
      "pyzmq                  17.0.0   \n",
      "qtconsole              4.3.1    \n",
      "query-string           1.0.1    \n",
      "request                1.0.1    \n",
      "requests               2.18.4   \n",
      "scipy                  1.1.0    \n",
      "seaborn                0.8.1    \n",
      "Send2Trash             1.5.0    \n",
      "setuptools             39.0.1   \n",
      "simplegeneric          0.8.1    \n",
      "six                    1.11.0   \n",
      "terminado              0.8.1    \n",
      "testpath               0.3.1    \n",
      "tornado                5.0.2    \n",
      "traitlets              4.3.2    \n",
      "urllib3                1.22     \n",
      "virtualenv             15.2.0   \n",
      "wcwidth                0.1.7    \n",
      "webencodings           0.5.1    \n",
      "wheel                  0.31.0   \n",
      "widgetsnbextension     3.2.1    \n"
     ]
    }
   ],
   "source": [
    "!pip list\n"
   ]
  },
  {
   "cell_type": "code",
   "execution_count": 1,
   "metadata": {},
   "outputs": [
    {
     "name": "stdout",
     "output_type": "stream",
     "text": [
      "Requirement already satisfied: forex-python in c:\\users\\dat-asset-236\\appdata\\local\\programs\\python\\python36\\lib\\site-packages (1.1)\n",
      "Requirement already satisfied: requests in c:\\users\\dat-asset-236\\appdata\\local\\programs\\python\\python36\\lib\\site-packages (from forex-python) (2.18.4)\n",
      "Requirement already satisfied: simplejson in c:\\users\\dat-asset-236\\appdata\\local\\programs\\python\\python36\\lib\\site-packages (from forex-python) (3.15.0)\n",
      "Requirement already satisfied: idna<2.7,>=2.5 in c:\\users\\dat-asset-236\\appdata\\local\\programs\\python\\python36\\lib\\site-packages (from requests->forex-python) (2.6)\n",
      "Requirement already satisfied: urllib3<1.23,>=1.21.1 in c:\\users\\dat-asset-236\\appdata\\local\\programs\\python\\python36\\lib\\site-packages (from requests->forex-python) (1.22)\n",
      "Requirement already satisfied: certifi>=2017.4.17 in c:\\users\\dat-asset-236\\appdata\\local\\programs\\python\\python36\\lib\\site-packages (from requests->forex-python) (2018.1.18)\n",
      "Requirement already satisfied: chardet<3.1.0,>=3.0.2 in c:\\users\\dat-asset-236\\appdata\\local\\programs\\python\\python36\\lib\\site-packages (from requests->forex-python) (3.0.4)\n"
     ]
    }
   ],
   "source": [
    "!pip install forex-python\n"
   ]
  },
  {
   "cell_type": "code",
   "execution_count": 5,
   "metadata": {},
   "outputs": [
    {
     "name": "stdout",
     "output_type": "stream",
     "text": [
      "Requirement already satisfied: numpy in c:\\users\\dat-asset-236\\appdata\\local\\programs\\python\\python36\\lib\\site-packages (1.14.5)\n"
     ]
    }
   ],
   "source": [
    "!pip install numpy"
   ]
  },
  {
   "cell_type": "code",
   "execution_count": 7,
   "metadata": {},
   "outputs": [
    {
     "name": "stdout",
     "output_type": "stream",
     "text": [
      "Collecting tensorflow\n",
      "  Downloading https://files.pythonhosted.org/packages/f4/88/980d7032b7408fcca5b0b8d420fcd97919197a9e7acf280ab74fc7db6993/tensorflow-1.8.0-cp36-cp36m-win_amd64.whl (34.4MB)\n",
      "Requirement already satisfied: six>=1.10.0 in c:\\users\\dat-asset-236\\appdata\\local\\programs\\python\\python36\\lib\\site-packages (from tensorflow) (1.11.0)\n",
      "Collecting gast>=0.2.0 (from tensorflow)\n",
      "  Downloading https://files.pythonhosted.org/packages/5c/78/ff794fcae2ce8aa6323e789d1f8b3b7765f601e7702726f430e814822b96/gast-0.2.0.tar.gz\n",
      "Collecting grpcio>=1.8.6 (from tensorflow)\n",
      "  Downloading https://files.pythonhosted.org/packages/5d/8b/104918993129d6c919a16826e6adcfa4a106c791da79fb9655c5b22ad9ff/grpcio-1.12.1-cp36-cp36m-win_amd64.whl (1.4MB)\n",
      "Requirement already satisfied: numpy>=1.13.3 in c:\\users\\dat-asset-236\\appdata\\local\\programs\\python\\python36\\lib\\site-packages (from tensorflow) (1.14.5)\n",
      "Requirement already satisfied: wheel>=0.26 in c:\\users\\dat-asset-236\\appdata\\local\\programs\\python\\python36\\lib\\site-packages (from tensorflow) (0.31.0)\n",
      "Collecting protobuf>=3.4.0 (from tensorflow)\n",
      "  Downloading https://files.pythonhosted.org/packages/75/7a/0dba607e50b97f6a89fa3f96e23bf56922fa59d748238b30507bfe361bbc/protobuf-3.6.0-cp36-cp36m-win_amd64.whl (1.1MB)\n",
      "Collecting termcolor>=1.1.0 (from tensorflow)\n",
      "  Downloading https://files.pythonhosted.org/packages/8a/48/a76be51647d0eb9f10e2a4511bf3ffb8cc1e6b14e9e4fab46173aa79f981/termcolor-1.1.0.tar.gz\n",
      "Collecting tensorboard<1.9.0,>=1.8.0 (from tensorflow)\n",
      "  Downloading https://files.pythonhosted.org/packages/59/a6/0ae6092b7542cfedba6b2a1c9b8dceaf278238c39484f3ba03b03f07803c/tensorboard-1.8.0-py3-none-any.whl (3.1MB)\n",
      "Collecting absl-py>=0.1.6 (from tensorflow)\n",
      "  Downloading https://files.pythonhosted.org/packages/57/8d/6664518f9b6ced0aa41cf50b989740909261d4c212557400c48e5cda0804/absl-py-0.2.2.tar.gz (82kB)\n",
      "Collecting astor>=0.6.0 (from tensorflow)\n",
      "  Downloading https://files.pythonhosted.org/packages/b2/91/cc9805f1ff7b49f620136b3a7ca26f6a1be2ed424606804b0fbcf499f712/astor-0.6.2-py2.py3-none-any.whl\n",
      "Requirement already satisfied: setuptools in c:\\users\\dat-asset-236\\appdata\\local\\programs\\python\\python36\\lib\\site-packages (from protobuf>=3.4.0->tensorflow) (39.0.1)\n",
      "Collecting markdown>=2.6.8 (from tensorboard<1.9.0,>=1.8.0->tensorflow)\n",
      "  Using cached https://files.pythonhosted.org/packages/6d/7d/488b90f470b96531a3f5788cf12a93332f543dbab13c423a5e7ce96a0493/Markdown-2.6.11-py2.py3-none-any.whl\n",
      "Collecting werkzeug>=0.11.10 (from tensorboard<1.9.0,>=1.8.0->tensorflow)\n",
      "  Downloading https://files.pythonhosted.org/packages/20/c4/12e3e56473e52375aa29c4764e70d1b8f3efa6682bef8d0aae04fe335243/Werkzeug-0.14.1-py2.py3-none-any.whl (322kB)\n",
      "Collecting html5lib==0.9999999 (from tensorboard<1.9.0,>=1.8.0->tensorflow)\n",
      "  Downloading https://files.pythonhosted.org/packages/ae/ae/bcb60402c60932b32dfaf19bb53870b29eda2cd17551ba5639219fb5ebf9/html5lib-0.9999999.tar.gz (889kB)\n",
      "Collecting bleach==1.5.0 (from tensorboard<1.9.0,>=1.8.0->tensorflow)\n",
      "  Downloading https://files.pythonhosted.org/packages/33/70/86c5fec937ea4964184d4d6c4f0b9551564f821e1c3575907639036d9b90/bleach-1.5.0-py2.py3-none-any.whl\n",
      "Building wheels for collected packages: gast, termcolor, absl-py, html5lib\n",
      "  Running setup.py bdist_wheel for gast: started\n",
      "  Running setup.py bdist_wheel for gast: finished with status 'done'\n",
      "  Stored in directory: C:\\Users\\DAT-ASSET-236\\AppData\\Local\\pip\\Cache\\wheels\\9a\\1f\\0e\\3cde98113222b853e98fc0a8e9924480a3e25f1b4008cedb4f\n",
      "  Running setup.py bdist_wheel for termcolor: started\n",
      "  Running setup.py bdist_wheel for termcolor: finished with status 'done'\n",
      "  Stored in directory: C:\\Users\\DAT-ASSET-236\\AppData\\Local\\pip\\Cache\\wheels\\7c\\06\\54\\bc84598ba1daf8f970247f550b175aaaee85f68b4b0c5ab2c6\n",
      "  Running setup.py bdist_wheel for absl-py: started\n",
      "  Running setup.py bdist_wheel for absl-py: finished with status 'done'\n",
      "  Stored in directory: C:\\Users\\DAT-ASSET-236\\AppData\\Local\\pip\\Cache\\wheels\\a0\\f8\\e9\\1933dbb3447ea6ef57062fd5461cb118deb8c2ed074e8344bf\n",
      "  Running setup.py bdist_wheel for html5lib: started\n",
      "  Running setup.py bdist_wheel for html5lib: finished with status 'done'\n",
      "  Stored in directory: C:\\Users\\DAT-ASSET-236\\AppData\\Local\\pip\\Cache\\wheels\\50\\ae\\f9\\d2b189788efcf61d1ee0e36045476735c838898eef1cad6e29\n",
      "Successfully built gast termcolor absl-py html5lib\n",
      "Installing collected packages: gast, grpcio, protobuf, termcolor, markdown, werkzeug, html5lib, bleach, tensorboard, absl-py, astor, tensorflow\n",
      "  Found existing installation: html5lib 1.0.1\n",
      "    Uninstalling html5lib-1.0.1:\n",
      "      Successfully uninstalled html5lib-1.0.1\n",
      "  Found existing installation: bleach 2.1.3\n",
      "    Uninstalling bleach-2.1.3:\n",
      "      Successfully uninstalled bleach-2.1.3\n",
      "Successfully installed absl-py-0.2.2 astor-0.6.2 bleach-1.5.0 gast-0.2.0 grpcio-1.12.1 html5lib-0.9999999 markdown-2.6.11 protobuf-3.6.0 tensorboard-1.8.0 tensorflow-1.8.0 termcolor-1.1.0 werkzeug-0.14.1\n"
     ]
    }
   ],
   "source": [
    "!pip install tensorflow"
   ]
  },
  {
   "cell_type": "code",
   "execution_count": 1,
   "metadata": {
    "scrolled": true
   },
   "outputs": [
    {
     "name": "stdout",
     "output_type": "stream",
     "text": [
      "Package                Version  \n",
      "---------------------- ---------\n",
      "absl-py                0.2.2    \n",
      "astor                  0.6.2    \n",
      "backcall               0.1.0    \n",
      "bleach                 1.5.0    \n",
      "certifi                2018.1.18\n",
      "chardet                3.0.4    \n",
      "colorama               0.3.9    \n",
      "cycler                 0.10.0   \n",
      "decorator              4.3.0    \n",
      "entrypoints            0.2.3    \n",
      "forex-python           1.1      \n",
      "gast                   0.2.0    \n",
      "get                    1.0.2    \n",
      "grpcio                 1.12.1   \n",
      "html5lib               0.9999999\n",
      "httpie                 0.9.9    \n",
      "idna                   2.6      \n",
      "ipykernel              4.8.2    \n",
      "ipython                6.4.0    \n",
      "ipython-genutils       0.2.0    \n",
      "ipywidgets             7.2.1    \n",
      "jedi                   0.12.0   \n",
      "Jinja2                 2.10     \n",
      "jsonschema             2.6.0    \n",
      "jupyter                1.0.0    \n",
      "jupyter-client         5.2.3    \n",
      "jupyter-console        5.2.0    \n",
      "jupyter-core           4.4.0    \n",
      "kiwisolver             1.0.1    \n",
      "Markdown               2.6.11   \n",
      "MarkupSafe             1.0      \n",
      "matplotlib             2.2.2    \n",
      "mistune                0.8.3    \n",
      "mysql-connector-python 8.0.6    \n",
      "nbconvert              5.3.1    \n",
      "nbformat               4.4.0    \n",
      "notebook               5.5.0    \n",
      "numpy                  1.14.5   \n",
      "pandas                 0.23.1   \n",
      "pandocfilters          1.4.2    \n",
      "parso                  0.2.1    \n",
      "pickleshare            0.7.4    \n",
      "pip                    10.0.1   \n",
      "post                   1.0.1    \n",
      "prompt-toolkit         1.0.15   \n",
      "protobuf               3.6.0    \n",
      "public                 1.0.1    \n",
      "Pygments               2.2.0    \n",
      "pyparsing              2.2.0    \n",
      "python-dateutil        2.7.3    \n",
      "pytz                   2018.4   \n",
      "pywinpty               0.5.4    \n",
      "pyzmq                  17.0.0   \n",
      "qtconsole              4.3.1    \n",
      "query-string           1.0.1    \n",
      "request                1.0.1    \n",
      "requests               2.18.4   \n",
      "scipy                  1.1.0    \n",
      "seaborn                0.8.1    \n",
      "Send2Trash             1.5.0    \n",
      "setuptools             39.0.1   \n",
      "simplegeneric          0.8.1    \n",
      "simplejson             3.15.0   \n",
      "six                    1.11.0   \n",
      "tensorboard            1.8.0    \n",
      "tensorflow             1.8.0    \n",
      "termcolor              1.1.0    \n",
      "terminado              0.8.1    \n",
      "testpath               0.3.1    \n",
      "tornado                5.0.2    \n",
      "traitlets              4.3.2    \n",
      "urllib3                1.22     \n",
      "virtualenv             15.2.0   \n",
      "wcwidth                0.1.7    \n",
      "webencodings           0.5.1    \n",
      "Werkzeug               0.14.1   \n",
      "wheel                  0.31.0   \n",
      "widgetsnbextension     3.2.1    \n"
     ]
    }
   ],
   "source": [
    "!pip list\n"
   ]
  },
  {
   "cell_type": "code",
   "execution_count": 2,
   "metadata": {},
   "outputs": [
    {
     "name": "stdout",
     "output_type": "stream",
     "text": [
      "Collecting sklearn\n",
      "  Downloading https://files.pythonhosted.org/packages/1e/7a/dbb3be0ce9bd5c8b7e3d87328e79063f8b263b2b1bfa4774cb1147bfcd3f/sklearn-0.0.tar.gz\n",
      "Collecting scikit-learn (from sklearn)\n",
      "  Downloading https://files.pythonhosted.org/packages/67/e5/1459a3d6c6029a86b840b7701c48429d857eb2086916fec76f97c94dcc7a/scikit_learn-0.19.1-cp36-cp36m-win_amd64.whl (4.3MB)\n",
      "Building wheels for collected packages: sklearn\n",
      "  Running setup.py bdist_wheel for sklearn: started\n",
      "  Running setup.py bdist_wheel for sklearn: finished with status 'done'\n",
      "  Stored in directory: C:\\Users\\DAT-ASSET-236\\AppData\\Local\\pip\\Cache\\wheels\\76\\03\\bb\\589d421d27431bcd2c6da284d5f2286c8e3b2ea3cf1594c074\n",
      "Successfully built sklearn\n",
      "Installing collected packages: scikit-learn, sklearn\n",
      "Successfully installed scikit-learn-0.19.1 sklearn-0.0\n"
     ]
    }
   ],
   "source": [
    "!pip install sklearn\n"
   ]
  },
  {
   "cell_type": "code",
   "execution_count": 3,
   "metadata": {},
   "outputs": [
    {
     "name": "stdout",
     "output_type": "stream",
     "text": [
      "Collecting quandl\n",
      "  Downloading https://files.pythonhosted.org/packages/1f/29/0bee9e3e29872e613b5222350cf61d8dac3ce865413e0dd98aca8bf0794b/Quandl-3.4.0-py2.py3-none-any.whl\n",
      "Collecting more-itertools (from quandl)\n",
      "  Downloading https://files.pythonhosted.org/packages/85/40/90c3b0393e12b9827381004224de8814686e3d7182f9d4182477f600826d/more_itertools-4.2.0-py3-none-any.whl (45kB)\n",
      "Requirement already satisfied: numpy>=1.8 in c:\\users\\dat-asset-236\\appdata\\local\\programs\\python\\python36\\lib\\site-packages (from quandl) (1.14.5)\n",
      "Requirement already satisfied: six in c:\\users\\dat-asset-236\\appdata\\local\\programs\\python\\python36\\lib\\site-packages (from quandl) (1.11.0)\n",
      "Requirement already satisfied: python-dateutil in c:\\users\\dat-asset-236\\appdata\\local\\programs\\python\\python36\\lib\\site-packages (from quandl) (2.7.3)\n",
      "Requirement already satisfied: requests>=2.7.0 in c:\\users\\dat-asset-236\\appdata\\local\\programs\\python\\python36\\lib\\site-packages (from quandl) (2.18.4)\n",
      "Collecting inflection>=0.3.1 (from quandl)\n",
      "  Downloading https://files.pythonhosted.org/packages/d5/35/a6eb45b4e2356fe688b21570864d4aa0d0a880ce387defe9c589112077f8/inflection-0.3.1.tar.gz\n",
      "Requirement already satisfied: pandas>=0.14 in c:\\users\\dat-asset-236\\appdata\\local\\programs\\python\\python36\\lib\\site-packages (from quandl) (0.23.1)\n",
      "Requirement already satisfied: certifi>=2017.4.17 in c:\\users\\dat-asset-236\\appdata\\local\\programs\\python\\python36\\lib\\site-packages (from requests>=2.7.0->quandl) (2018.1.18)\n",
      "Requirement already satisfied: idna<2.7,>=2.5 in c:\\users\\dat-asset-236\\appdata\\local\\programs\\python\\python36\\lib\\site-packages (from requests>=2.7.0->quandl) (2.6)\n",
      "Requirement already satisfied: chardet<3.1.0,>=3.0.2 in c:\\users\\dat-asset-236\\appdata\\local\\programs\\python\\python36\\lib\\site-packages (from requests>=2.7.0->quandl) (3.0.4)\n",
      "Requirement already satisfied: urllib3<1.23,>=1.21.1 in c:\\users\\dat-asset-236\\appdata\\local\\programs\\python\\python36\\lib\\site-packages (from requests>=2.7.0->quandl) (1.22)\n",
      "Requirement already satisfied: pytz>=2011k in c:\\users\\dat-asset-236\\appdata\\local\\programs\\python\\python36\\lib\\site-packages (from pandas>=0.14->quandl) (2018.4)\n",
      "Building wheels for collected packages: inflection\n",
      "  Running setup.py bdist_wheel for inflection: started\n",
      "  Running setup.py bdist_wheel for inflection: finished with status 'done'\n",
      "  Stored in directory: C:\\Users\\DAT-ASSET-236\\AppData\\Local\\pip\\Cache\\wheels\\9f\\5a\\d3\\6fc3bf6516d2a3eb7e18f9f28b472110b59325f3f258fe9211\n",
      "Successfully built inflection\n",
      "Installing collected packages: more-itertools, inflection, quandl\n",
      "Successfully installed inflection-0.3.1 more-itertools-4.2.0 quandl-3.4.0\n"
     ]
    }
   ],
   "source": [
    "!pip install quandl"
   ]
  },
  {
   "cell_type": "code",
   "execution_count": null,
   "metadata": {},
   "outputs": [],
   "source": []
  }
 ],
 "metadata": {
  "kernelspec": {
   "display_name": "Python 3",
   "language": "python",
   "name": "python3"
  },
  "language_info": {
   "codemirror_mode": {
    "name": "ipython",
    "version": 3
   },
   "file_extension": ".py",
   "mimetype": "text/x-python",
   "name": "python",
   "nbconvert_exporter": "python",
   "pygments_lexer": "ipython3",
   "version": "3.6.5"
  }
 },
 "nbformat": 4,
 "nbformat_minor": 2
}
