{
 "cells": [
  {
   "cell_type": "code",
   "execution_count": null,
   "metadata": {},
   "outputs": [],
   "source": []
  },
  {
   "cell_type": "code",
   "execution_count": 9,
   "metadata": {},
   "outputs": [
    {
     "name": "stdout",
     "output_type": "stream",
     "text": [
      "port no x is closed\n",
      "port no x is closed\n",
      "port no x is closed\n",
      "port no x is closed\n",
      "port no x is closed\n",
      "port no x is closed\n",
      "port no x is closed\n",
      "port no x is closed\n",
      "port no x is closed\n",
      "port no x is closed\n",
      "port no x is closed\n",
      "port no x is closed\n",
      "port no x is closed\n",
      "port no x is closed\n",
      "port no x is closed\n",
      "port no x is closed\n",
      "port no x is closed\n",
      "port no x is closed\n",
      "port no x is closed\n",
      "port no x is closed\n",
      "port no x is closed\n",
      "port no x is closed\n",
      "port no x is closed\n",
      "port no x is closed\n"
     ]
    }
   ],
   "source": [
    "import socket\n",
    "\n",
    "s = socket.socket(socket.AF_INET, socket.SOCK_STREAM)\n",
    "server = \"flipkart.com\"\n",
    "def portScan(port):\n",
    "    try :\n",
    "        s.connect(server,port)\n",
    "        return True\n",
    "    except :\n",
    "        return False\n",
    "    \n",
    "for x in range(1,25):\n",
    "    if portScan(x):\n",
    "        print(\"port no x is open Enjoy.\")\n",
    "    else :\n",
    "        print(\"port no x is closed\")\n",
    "    \n",
    "    \n",
    "\n",
    "\n",
    "\n",
    "\n",
    "\n",
    "\n",
    "\n",
    "\n",
    "\n",
    "\n"
   ]
  }
 ],
 "metadata": {
  "kernelspec": {
   "display_name": "Python 3",
   "language": "python",
   "name": "python3"
  },
  "language_info": {
   "codemirror_mode": {
    "name": "ipython",
    "version": 3
   },
   "file_extension": ".py",
   "mimetype": "text/x-python",
   "name": "python",
   "nbconvert_exporter": "python",
   "pygments_lexer": "ipython3",
   "version": "3.6.5"
  }
 },
 "nbformat": 4,
 "nbformat_minor": 2
}
