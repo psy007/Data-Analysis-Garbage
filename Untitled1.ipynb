{
 "cells": [
  {
   "cell_type": "code",
   "execution_count": 2,
   "metadata": {},
   "outputs": [
    {
     "name": "stdout",
     "output_type": "stream",
     "text": [
      "['Year,Country,Winner,Runners-Up,Third,Fourth,GoalsScored,QualifiedTeams,MatchesPlayed,Attendance\\n', '1930,Uruguay,Uruguay,Argentina,USA,Yugoslavia,70,13,18,590.549\\n', '1934,Italy,Italy,Czechoslovakia,Germany,Austria,70,16,17,363.000\\n', '1938,France,Italy,Hungary,Brazil,Sweden,84,15,18,375.700\\n', '1950,Brazil,Uruguay,Brazil,Sweden,Spain,88,13,22,1.045.246\\n', '1954,Switzerland,Germany FR,Hungary,Austria,Uruguay,140,16,26,768.607\\n', '1958,Sweden,Brazil,Sweden,France,Germany FR,126,16,35,819.810\\n', '1962,Chile,Brazil,Czechoslovakia,Chile,Yugoslavia,89,16,32,893.172\\n', '1966,England,England,Germany FR,Portugal,Soviet Union,89,16,32,1.563.135\\n', '1970,Mexico,Brazil,Italy,Germany FR,Uruguay,95,16,32,1.603.975\\n', '1974,Germany,Germany FR,Netherlands,Poland,Brazil,97,16,38,1.865.753\\n', '1978,Argentina,Argentina,Netherlands,Brazil,Italy,102,16,38,1.545.791\\n', '1982,Spain,Italy,Germany FR,Poland,France,146,24,52,2.109.723\\n', '1986,Mexico,Argentina,Germany FR,France,Belgium,132,24,52,2.394.031\\n', '1990,Italy,Germany FR,Argentina,Italy,England,115,24,52,2.516.215\\n', '1994,USA,Brazil,Italy,Sweden,Bulgaria,141,24,52,3.587.538\\n', '1998,France,France,Brazil,Croatia,Netherlands,171,32,64,2.785.100\\n', '2002,Korea/Japan,Brazil,Germany,Turkey,Korea Republic,161,32,64,2.705.197\\n', '2006,Germany,Italy,France,Germany,Portugal,147,32,64,3.359.439\\n', '2010,South Africa,Spain,Netherlands,Germany,Uruguay,145,32,64,3.178.856\\n', '2014,Brazil,Germany,Argentina,Netherlands,Brazil,171,32,64,3.386.810\\n']\n"
     ]
    }
   ],
   "source": [
    "xt = open(\"WorldCups.csv\",'r').readlines()\n",
    "print(xt)"
   ]
  },
  {
   "cell_type": "code",
   "execution_count": 5,
   "metadata": {},
   "outputs": [
    {
     "data": {
      "text/plain": [
       "'jdsfhljdsfsdkfhdskfhsdfj'"
      ]
     },
     "execution_count": 5,
     "metadata": {},
     "output_type": "execute_result"
    }
   ],
   "source": [
    "class calculator:\n",
    "    'jdsfhljdsfsdkfhdskfhsdfj'\n",
    "    def addition(x, y):\n",
    "        return x+y \n",
    " \n",
    "calculator.__doc__\n",
    "    \n"
   ]
  },
  {
   "cell_type": "code",
   "execution_count": 11,
   "metadata": {},
   "outputs": [
    {
     "name": "stdout",
     "output_type": "stream",
     "text": [
      "Name :  Zara , Salary:  2000\n",
      "Name :  Manni , Salary:  5000\n",
      "Total Employee 2\n"
     ]
    },
    {
     "data": {
      "text/plain": [
       "'Zara'"
      ]
     },
     "execution_count": 11,
     "metadata": {},
     "output_type": "execute_result"
    }
   ],
   "source": [
    "#!/usr/bin/python3\n",
    "\n",
    "class Employee:\n",
    "   'Common base class for all employees'\n",
    "   empCount = 0\n",
    "\n",
    "   def __init__(self, name, salary):\n",
    "      self.name = name\n",
    "      self.salary = salary\n",
    "      Employee.empCount += 1\n",
    "   \n",
    "   def displayCount(self):\n",
    "     print (\"Total Employee %d\" % Employee.empCount)\n",
    "\n",
    "   def displayEmployee(self):\n",
    "      print (\"Name : \", self.name,  \", Salary: \", self.salary)\n",
    "\n",
    "\n",
    "#This would create first object of Employee class\"\n",
    "emp1 = Employee(\"Zara\", 2000)\n",
    "#This would create second object of Employee class\"\n",
    "emp2 = Employee(\"Manni\", 5000)\n",
    "emp1.displayEmployee()\n",
    "emp2.displayEmployee()\n",
    "print (\"Total Employee %d\" % Employee.empCount)\n",
    "getattr(emp1, 'name', 'salary')"
   ]
  },
  {
   "cell_type": "code",
   "execution_count": 7,
   "metadata": {},
   "outputs": [
    {
     "name": "stdout",
     "output_type": "stream",
     "text": [
      "[(1, 1, 0), (1, 1, 1), (1, 1, 2), (3, 9, 0), (3, 9, 1), (3, 9, 2), (4, 16, 0), (4, 16, 1), (4, 16, 2)]\n"
     ]
    }
   ],
   "source": [
    "list2 = [(x, x**2, y) for x in range(5) if x!=0 for y in range(3) if x != 2]\n",
    "print(list2)"
   ]
  },
  {
   "cell_type": "code",
   "execution_count": 3,
   "metadata": {},
   "outputs": [
    {
     "data": {
      "text/html": [
       "<div>\n",
       "<style scoped>\n",
       "    .dataframe tbody tr th:only-of-type {\n",
       "        vertical-align: middle;\n",
       "    }\n",
       "\n",
       "    .dataframe tbody tr th {\n",
       "        vertical-align: top;\n",
       "    }\n",
       "\n",
       "    .dataframe thead th {\n",
       "        text-align: right;\n",
       "    }\n",
       "</style>\n",
       "<table border=\"1\" class=\"dataframe\">\n",
       "  <thead>\n",
       "    <tr style=\"text-align: right;\">\n",
       "      <th></th>\n",
       "      <th>AC</th>\n",
       "      <th>Bath_room</th>\n",
       "      <th>Bed_room</th>\n",
       "      <th>Build_Size</th>\n",
       "      <th>Garage</th>\n",
       "      <th>Heating</th>\n",
       "      <th>Plot_Size</th>\n",
       "      <th>Pool</th>\n",
       "      <th>WC</th>\n",
       "      <th>property_description</th>\n",
       "      <th>property_name</th>\n",
       "      <th>property_price</th>\n",
       "    </tr>\n",
       "  </thead>\n",
       "  <tbody>\n",
       "    <tr>\n",
       "      <th>0</th>\n",
       "      <td>[NO]</td>\n",
       "      <td>[2]</td>\n",
       "      <td>[2]</td>\n",
       "      <td>[74 m]</td>\n",
       "      <td>[NO]</td>\n",
       "      <td>[NO]</td>\n",
       "      <td>[31 m]</td>\n",
       "      <td>[YES]</td>\n",
       "      <td>NaN</td>\n",
       "      <td>[Located in urbanisation El Raso, Guardamar, t...</td>\n",
       "      <td>[Apartment for sale in Guardamar del Segura, A...</td>\n",
       "      <td>[146,000]</td>\n",
       "    </tr>\n",
       "    <tr>\n",
       "      <th>1</th>\n",
       "      <td>[NO]</td>\n",
       "      <td>[4]</td>\n",
       "      <td>[3]</td>\n",
       "      <td>[150 m]</td>\n",
       "      <td>[NO]</td>\n",
       "      <td>[NO]</td>\n",
       "      <td>[1050 m]</td>\n",
       "      <td>[YES]</td>\n",
       "      <td>NaN</td>\n",
       "      <td>[This stunning villa is built on the well-know...</td>\n",
       "      <td>[Villa for sale in Orihuela Costa, Alicante]</td>\n",
       "      <td>[1,050,000]</td>\n",
       "    </tr>\n",
       "    <tr>\n",
       "      <th>2</th>\n",
       "      <td>[NO]</td>\n",
       "      <td>[2]</td>\n",
       "      <td>[3]</td>\n",
       "      <td>[80 m]</td>\n",
       "      <td>[NO]</td>\n",
       "      <td>[NO]</td>\n",
       "      <td>[82 m]</td>\n",
       "      <td>[YES]</td>\n",
       "      <td>NaN</td>\n",
       "      <td>[The residential complex is composed of 32 hou...</td>\n",
       "      <td>[Apartment for sale in Los Alcázares, Murcia]</td>\n",
       "      <td>[155,000]</td>\n",
       "    </tr>\n",
       "    <tr>\n",
       "      <th>3</th>\n",
       "      <td>[NO]</td>\n",
       "      <td>[5]</td>\n",
       "      <td>[6]</td>\n",
       "      <td>[548 m]</td>\n",
       "      <td>[YES]</td>\n",
       "      <td>[NO]</td>\n",
       "      <td>[727 m]</td>\n",
       "      <td>[YES]</td>\n",
       "      <td>NaN</td>\n",
       "      <td>[Modern 6-bedroom villa located in the peacefu...</td>\n",
       "      <td>[Villa for sale in Sant Cugat del Vallès, Barc...</td>\n",
       "      <td>[2,200,000]</td>\n",
       "    </tr>\n",
       "    <tr>\n",
       "      <th>4</th>\n",
       "      <td>[NO]</td>\n",
       "      <td>[3]</td>\n",
       "      <td>[3]</td>\n",
       "      <td>[208 m]</td>\n",
       "      <td>[NO]</td>\n",
       "      <td>[NO]</td>\n",
       "      <td>[400 m]</td>\n",
       "      <td>[YES]</td>\n",
       "      <td>NaN</td>\n",
       "      <td>[This modern villa with views over Benidorm ha...</td>\n",
       "      <td>[Villa for sale in Finestrat, Alicante]</td>\n",
       "      <td>[379,000]</td>\n",
       "    </tr>\n",
       "  </tbody>\n",
       "</table>\n",
       "</div>"
      ],
      "text/plain": [
       "     AC Bath_room Bed_room Build_Size Garage Heating Plot_Size   Pool   WC  \\\n",
       "0  [NO]       [2]      [2]     [74 m]   [NO]    [NO]    [31 m]  [YES]  NaN   \n",
       "1  [NO]       [4]      [3]    [150 m]   [NO]    [NO]  [1050 m]  [YES]  NaN   \n",
       "2  [NO]       [2]      [3]     [80 m]   [NO]    [NO]    [82 m]  [YES]  NaN   \n",
       "3  [NO]       [5]      [6]    [548 m]  [YES]    [NO]   [727 m]  [YES]  NaN   \n",
       "4  [NO]       [3]      [3]    [208 m]   [NO]    [NO]   [400 m]  [YES]  NaN   \n",
       "\n",
       "                                property_description  \\\n",
       "0  [Located in urbanisation El Raso, Guardamar, t...   \n",
       "1  [This stunning villa is built on the well-know...   \n",
       "2  [The residential complex is composed of 32 hou...   \n",
       "3  [Modern 6-bedroom villa located in the peacefu...   \n",
       "4  [This modern villa with views over Benidorm ha...   \n",
       "\n",
       "                                       property_name property_price  \n",
       "0  [Apartment for sale in Guardamar del Segura, A...      [146,000]  \n",
       "1       [Villa for sale in Orihuela Costa, Alicante]    [1,050,000]  \n",
       "2      [Apartment for sale in Los Alcázares, Murcia]      [155,000]  \n",
       "3  [Villa for sale in Sant Cugat del Vallès, Barc...    [2,200,000]  \n",
       "4            [Villa for sale in Finestrat, Alicante]      [379,000]  "
      ]
     },
     "execution_count": 3,
     "metadata": {},
     "output_type": "execute_result"
    }
   ],
   "source": [
    "import pandas as pd \n",
    "df = pd.read_json('data1.json')\n",
    "df.head()"
   ]
  }
 ],
 "metadata": {
  "kernelspec": {
   "display_name": "Python 3",
   "language": "python",
   "name": "python3"
  },
  "language_info": {
   "codemirror_mode": {
    "name": "ipython",
    "version": 3
   },
   "file_extension": ".py",
   "mimetype": "text/x-python",
   "name": "python",
   "nbconvert_exporter": "python",
   "pygments_lexer": "ipython3",
   "version": "3.6.5"
  }
 },
 "nbformat": 4,
 "nbformat_minor": 2
}
