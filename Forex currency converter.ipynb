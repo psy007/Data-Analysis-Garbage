{
 "cells": [
  {
   "cell_type": "code",
   "execution_count": 1,
   "metadata": {},
   "outputs": [
    {
     "data": {
      "text/plain": [
       "{'AUD': 1.3537,\n",
       " 'BGN': 1.6837,\n",
       " 'BRL': 3.801,\n",
       " 'CAD': 1.3295,\n",
       " 'CHF': 0.9931,\n",
       " 'CNY': 6.5986,\n",
       " 'CZK': 22.1909,\n",
       " 'DKK': 6.4142,\n",
       " 'EUR': 0.8609,\n",
       " 'GBP': 0.7591,\n",
       " 'HKD': 7.8476,\n",
       " 'HRK': 6.3538,\n",
       " 'HUF': 281.3361,\n",
       " 'IDR': 14191.0038,\n",
       " 'ILS': 3.6461,\n",
       " 'INR': 68.6071,\n",
       " 'ISK': 107.0937,\n",
       " 'JPY': 110.2617,\n",
       " 'KRW': 1118.1818,\n",
       " 'MXN': 19.9567,\n",
       " 'MYR': 4.0285,\n",
       " 'NOK': 8.1599,\n",
       " 'NZD': 1.4675,\n",
       " 'PHP': 53.5098,\n",
       " 'PLN': 3.733,\n",
       " 'RON': 4.0077,\n",
       " 'RUB': 63.1534,\n",
       " 'SEK': 8.9104,\n",
       " 'SGD': 1.3631,\n",
       " 'THB': 33.0002,\n",
       " 'TRY': 4.6229,\n",
       " 'ZAR': 13.6835}"
      ]
     },
     "execution_count": 1,
     "metadata": {},
     "output_type": "execute_result"
    }
   ],
   "source": [
    "from forex_python.converter import CurrencyRates\n",
    "c = CurrencyRates()\n",
    "c.get_rates('USD')  "
   ]
  },
  {
   "cell_type": "code",
   "execution_count": 2,
   "metadata": {},
   "outputs": [
    {
     "data": {
      "text/plain": [
       "68.6071"
      ]
     },
     "execution_count": 2,
     "metadata": {},
     "output_type": "execute_result"
    }
   ],
   "source": [
    "c.get_rate('USD', 'INR')  "
   ]
  },
  {
   "cell_type": "code",
   "execution_count": 10,
   "metadata": {},
   "outputs": [
    {
     "data": {
      "text/plain": [
       "Decimal('689.501355')"
      ]
     },
     "execution_count": 10,
     "metadata": {},
     "output_type": "execute_result"
    }
   ],
   "source": [
    "from forex_python.converter import CurrencyRates\n",
    "from decimal import Decimal\n",
    "c = CurrencyRates(force_decimal=True)\n",
    "c.convert('USD', 'INR', Decimal('10.05'))"
   ]
  }
 ],
 "metadata": {
  "kernelspec": {
   "display_name": "Python 3",
   "language": "python",
   "name": "python3"
  },
  "language_info": {
   "codemirror_mode": {
    "name": "ipython",
    "version": 3
   },
   "file_extension": ".py",
   "mimetype": "text/x-python",
   "name": "python",
   "nbconvert_exporter": "python",
   "pygments_lexer": "ipython3",
   "version": "3.6.5"
  }
 },
 "nbformat": 4,
 "nbformat_minor": 2
}
