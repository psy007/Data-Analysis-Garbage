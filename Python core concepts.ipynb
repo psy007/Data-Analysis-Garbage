{
 "cells": [
  {
   "cell_type": "markdown",
   "metadata": {},
   "source": [
    "# PYTHON BUILT-IN FUNCTIONS"
   ]
  },
  {
   "cell_type": "code",
   "execution_count": null,
   "metadata": {},
   "outputs": [],
   "source": []
  },
  {
   "cell_type": "markdown",
   "metadata": {},
   "source": [
    "## 1) abs()"
   ]
  },
  {
   "cell_type": "code",
   "execution_count": 1,
   "metadata": {},
   "outputs": [
    {
     "name": "stdout",
     "output_type": "stream",
     "text": [
      "Absolute value of -20 is: 20\n",
      "Absolute value of -30.33 is: 30.33\n",
      "Magnitude of 3 - 4j is: 5.0\n"
     ]
    }
   ],
   "source": [
    "# random integer\n",
    "integer = -20\n",
    "print('Absolute value of -20 is:', abs(integer))\n",
    "\n",
    "#random floating number\n",
    "floating = -30.33\n",
    "print('Absolute value of -30.33 is:', abs(floating))\n",
    "\n",
    "# random complex number\n",
    "complex = (3 - 4j)\n",
    "print('Magnitude of 3 - 4j is:', abs(complex))"
   ]
  },
  {
   "cell_type": "code",
   "execution_count": 6,
   "metadata": {},
   "outputs": [
    {
     "name": "stdout",
     "output_type": "stream",
     "text": [
      "True\n"
     ]
    }
   ],
   "source": [
    "# any()\n",
    "data= {1:'sdffd',\n",
    "      0:\"fdgtr\"}\n",
    "print(any(data))"
   ]
  },
  {
   "cell_type": "code",
   "execution_count": 1,
   "metadata": {},
   "outputs": [
    {
     "name": "stdout",
     "output_type": "stream",
     "text": [
      "C:\\Users\\DAT-ASSET-236\\Jupyter projects\\jupyter work flow example\\Jupyter-workflow-examples\n"
     ]
    }
   ],
   "source": [
    "import os\n",
    "print(os.getcwd())"
   ]
  },
  {
   "cell_type": "code",
   "execution_count": 2,
   "metadata": {},
   "outputs": [],
   "source": [
    "os.mkdir(\"dsfsdfdf\")"
   ]
  },
  {
   "cell_type": "markdown",
   "metadata": {},
   "source": [
    "# PYTHON GLOBAL AND LOCAL VARIABLE AND NONLOCAL KEYWORD \n"
   ]
  },
  {
   "cell_type": "code",
   "execution_count": 2,
   "metadata": {},
   "outputs": [
    {
     "name": "stdout",
     "output_type": "stream",
     "text": [
      "5\n",
      "10\n"
     ]
    }
   ],
   "source": [
    "# python local and global varible \n",
    "\n",
    "x = 5 \n",
    "def example():\n",
    "    print(x)\n",
    "    print(x+5)\n",
    "example()"
   ]
  },
  {
   "cell_type": "code",
   "execution_count": 3,
   "metadata": {},
   "outputs": [
    {
     "ename": "UnboundLocalError",
     "evalue": "local variable 'x' referenced before assignment",
     "output_type": "error",
     "traceback": [
      "\u001b[1;31m---------------------------------------------------------------------------\u001b[0m",
      "\u001b[1;31mUnboundLocalError\u001b[0m                         Traceback (most recent call last)",
      "\u001b[1;32m<ipython-input-3-996847066632>\u001b[0m in \u001b[0;36m<module>\u001b[1;34m()\u001b[0m\n\u001b[0;32m      4\u001b[0m     \u001b[0mprint\u001b[0m\u001b[1;33m(\u001b[0m\u001b[0mx\u001b[0m\u001b[1;33m+\u001b[0m\u001b[1;36m5\u001b[0m\u001b[1;33m)\u001b[0m\u001b[1;33m\u001b[0m\u001b[0m\n\u001b[0;32m      5\u001b[0m     \u001b[0mx\u001b[0m\u001b[1;33m+=\u001b[0m\u001b[1;36m5\u001b[0m\u001b[1;33m\u001b[0m\u001b[0m\n\u001b[1;32m----> 6\u001b[1;33m \u001b[0mexample\u001b[0m\u001b[1;33m(\u001b[0m\u001b[1;33m)\u001b[0m\u001b[1;33m\u001b[0m\u001b[0m\n\u001b[0m",
      "\u001b[1;32m<ipython-input-3-996847066632>\u001b[0m in \u001b[0;36mexample\u001b[1;34m()\u001b[0m\n\u001b[0;32m      1\u001b[0m \u001b[0mx\u001b[0m \u001b[1;33m=\u001b[0m \u001b[1;36m5\u001b[0m\u001b[1;33m\u001b[0m\u001b[0m\n\u001b[0;32m      2\u001b[0m \u001b[1;32mdef\u001b[0m \u001b[0mexample\u001b[0m\u001b[1;33m(\u001b[0m\u001b[1;33m)\u001b[0m\u001b[1;33m:\u001b[0m\u001b[1;33m\u001b[0m\u001b[0m\n\u001b[1;32m----> 3\u001b[1;33m     \u001b[0mprint\u001b[0m\u001b[1;33m(\u001b[0m\u001b[0mx\u001b[0m\u001b[1;33m)\u001b[0m\u001b[1;33m\u001b[0m\u001b[0m\n\u001b[0m\u001b[0;32m      4\u001b[0m     \u001b[0mprint\u001b[0m\u001b[1;33m(\u001b[0m\u001b[0mx\u001b[0m\u001b[1;33m+\u001b[0m\u001b[1;36m5\u001b[0m\u001b[1;33m)\u001b[0m\u001b[1;33m\u001b[0m\u001b[0m\n\u001b[0;32m      5\u001b[0m     \u001b[0mx\u001b[0m\u001b[1;33m+=\u001b[0m\u001b[1;36m5\u001b[0m\u001b[1;33m\u001b[0m\u001b[0m\n",
      "\u001b[1;31mUnboundLocalError\u001b[0m: local variable 'x' referenced before assignment"
     ]
    }
   ],
   "source": [
    "# This can not be done \n",
    "x = 5 \n",
    "def example():\n",
    "    print(x)\n",
    "    print(x+5)\n",
    "    x+=5\n",
    "example()"
   ]
  },
  {
   "cell_type": "markdown",
   "metadata": {},
   "source": [
    "As you can see that it's giving erroR. solution for this is global keyword, we need to define x as global variable before modifying it. we can access global varible but we can not modify it. we can hold it in other variable and use it as a local varibale.\n"
   ]
  },
  {
   "cell_type": "code",
   "execution_count": 4,
   "metadata": {},
   "outputs": [
    {
     "name": "stdout",
     "output_type": "stream",
     "text": [
      "5\n",
      "10\n",
      "10\n"
     ]
    }
   ],
   "source": [
    "x = 5 \n",
    "def example():\n",
    "    global x\n",
    "    print(x)\n",
    "    print(x+5)\n",
    "    x+=5\n",
    "    print(x)\n",
    "example()"
   ]
  },
  {
   "cell_type": "code",
   "execution_count": 6,
   "metadata": {},
   "outputs": [
    {
     "name": "stdout",
     "output_type": "stream",
     "text": [
      "5\n",
      "10\n"
     ]
    }
   ],
   "source": [
    "x = 5 \n",
    "def example():\n",
    "    globx =  x   # Here globx is a local variable and can not be used outside of this function.\n",
    "    print(globx)\n",
    "    globx += 5\n",
    "    print(globx)\n",
    "example()"
   ]
  },
  {
   "cell_type": "code",
   "execution_count": 10,
   "metadata": {},
   "outputs": [
    {
     "name": "stdout",
     "output_type": "stream",
     "text": [
      "inner: nonlocal\n",
      "outer: nonlocal\n"
     ]
    }
   ],
   "source": [
    "'''\n",
    "Now have a look at this one using nonlocal keyword. nonlocal is used to tell python to pick outer \n",
    "funtion variable otherwise if you assign any value to same name varible then it will consider it \n",
    "as local varible.\n",
    "'''\n",
    "def outer():\n",
    "    x = \"local\"\n",
    "    \n",
    "    def inner():\n",
    "        nonlocal x    \n",
    "        x = \"nonlocal\"\n",
    "        print(\"inner:\", x)\n",
    "    \n",
    "    inner()\n",
    "    print(\"outer:\", x)\n",
    "\n",
    "outer()"
   ]
  },
  {
   "cell_type": "markdown",
   "metadata": {},
   "source": [
    "# GENERATOR AND ITERATOR IN PYTHON"
   ]
  },
  {
   "cell_type": "code",
   "execution_count": 13,
   "metadata": {},
   "outputs": [
    {
     "name": "stdout",
     "output_type": "stream",
     "text": [
      "[1, 4, 9, 16, 25, 36]\n"
     ]
    }
   ],
   "source": [
    "# GENERATOR IN PYTHON | LOOK AT THE BELOW NORMAL FUNTION\n",
    "\n",
    "def square_number(nums):\n",
    "    result = []\n",
    "    for i in nums:\n",
    "        result.append(i**2)\n",
    "    return result\n",
    "\n",
    "my_num = square_number([1,2,3,4,5,6])\n",
    "print(my_num)"
   ]
  },
  {
   "cell_type": "code",
   "execution_count": 17,
   "metadata": {},
   "outputs": [
    {
     "name": "stdout",
     "output_type": "stream",
     "text": [
      "<generator object square_number at 0x000001DCD11CEF68>\n",
      "1\n",
      "4\n",
      "9\n"
     ]
    }
   ],
   "source": [
    "# NOW LOOK AT THE GENERATOR FUNTION \n",
    "\n",
    "def square_number(nums):\n",
    "    for i in nums:\n",
    "        yield i*i\n",
    "\n",
    "my_num = square_number([1,2,3,4,5,6])\n",
    "print(my_num)\n",
    "print(next(my_num))\n",
    "print(next(my_num))\n",
    "print(next(my_num))"
   ]
  },
  {
   "cell_type": "markdown",
   "metadata": {},
   "source": [
    "As you can see you are getting a generetor object when you pass only my_nums and it is giving actual result when it is passed to next funtion. Generator dont hold everything in memory it just yeid one result at a time."
   ]
  },
  {
   "cell_type": "code",
   "execution_count": 19,
   "metadata": {},
   "outputs": [
    {
     "name": "stdout",
     "output_type": "stream",
     "text": [
      "1\n",
      "4\n",
      "9\n",
      "16\n",
      "25\n",
      "36\n"
     ]
    }
   ],
   "source": [
    "# Normal generator funtion \n",
    "def square_number(nums):\n",
    "    for i in nums:\n",
    "        yield i*i\n",
    "\n",
    "my_num = square_number([1,2,3,4,5,6])\n",
    "for i in my_num:\n",
    "    print(i)"
   ]
  },
  {
   "cell_type": "code",
   "execution_count": 20,
   "metadata": {},
   "outputs": [
    {
     "name": "stdout",
     "output_type": "stream",
     "text": [
      "[1, 4, 9, 16, 25, 36]\n",
      "1\n",
      "4\n",
      "9\n",
      "16\n",
      "25\n",
      "36\n"
     ]
    }
   ],
   "source": [
    "# List comprehention expression expression\n",
    "my_num = [i*i  for i in [1,2,3,4,5,6]] # my_num is list \n",
    "print(my_num)\n",
    "for i in my_num:\n",
    "    print(i)\n"
   ]
  },
  {
   "cell_type": "code",
   "execution_count": 16,
   "metadata": {},
   "outputs": [
    {
     "name": "stdout",
     "output_type": "stream",
     "text": [
      "<generator object <genexpr> at 0x0000024C96850C50>\n",
      "1\n",
      "4\n",
      "9\n",
      "16\n",
      "25\n",
      "36\n"
     ]
    }
   ],
   "source": [
    "# Writing generator function sort way. \n",
    "my_num = (i*i  for i in [1,2,3,4,5,6]) # my_num is a generator object\n",
    "print(my_num)\n",
    "\n",
    "for i in my_num:\n",
    "    print(i)"
   ]
  },
  {
   "cell_type": "code",
   "execution_count": 22,
   "metadata": {},
   "outputs": [
    {
     "name": "stdout",
     "output_type": "stream",
     "text": [
      "[1, 4, 9, 16, 25, 36]\n"
     ]
    }
   ],
   "source": [
    "my_num = (i*i  for i in [1,2,3,4,5,6]) \n",
    "print(list(my_num))\n",
    "\n",
    "# here you loose the advantages in terms of performance which you have gained using genenrator by \n",
    "#holding all value in list\n"
   ]
  },
  {
   "cell_type": "markdown",
   "metadata": {},
   "source": [
    "One interesting thing which you can observe from above two block is for loop work with iterator and generator both.\n"
   ]
  },
  {
   "cell_type": "code",
   "execution_count": 15,
   "metadata": {},
   "outputs": [
    {
     "data": {
      "text/plain": [
       "'d'"
      ]
     },
     "execution_count": 15,
     "metadata": {},
     "output_type": "execute_result"
    }
   ],
   "source": [
    "a = ['d','f','r']\n",
    "#itrator = iter(a)\n",
    "#next(itrator)\n",
    "v=a.__iter__()\n",
    "v.__next__()"
   ]
  },
  {
   "cell_type": "markdown",
   "metadata": {},
   "source": [
    "So what do you understand by above example? every object whose class implement __iter__ and __next__ is iterable. when these objects call __iter__ then it returns iterator. "
   ]
  },
  {
   "cell_type": "markdown",
   "metadata": {},
   "source": [
    "# OS MODULE "
   ]
  },
  {
   "cell_type": "code",
   "execution_count": 22,
   "metadata": {},
   "outputs": [
    {
     "name": "stdout",
     "output_type": "stream",
     "text": [
      "C:\\Users\\DAT-ASSET-236\\Jupyter projects\\jupyter work flow example\\Jupyter-workflow-examples\n"
     ]
    }
   ],
   "source": [
    "import os\n",
    "current_dir = os.getcwd()# will get you current working directory\n",
    "os.mkdir('This_is_new_dir_in_current_cwd') # this will create a new folder in current working directory.\n",
    "os.rename('This_is_new_dir_in_current_cwd','renamedfile') # rename of directory\n",
    "os.rmdir('renamedfile') # it will remove the mentioned file\n",
    "#help(os)\n",
    "print(current_dir)"
   ]
  },
  {
   "cell_type": "markdown",
   "metadata": {},
   "source": [
    "# SYS MODULE"
   ]
  },
  {
   "cell_type": "code",
   "execution_count": 1,
   "metadata": {},
   "outputs": [
    {
     "name": "stderr",
     "output_type": "stream",
     "text": [
      "This is a error text\n"
     ]
    },
    {
     "name": "stdout",
     "output_type": "stream",
     "text": [
      "This is a output text\n",
      "['c:\\\\users\\\\dat-asset-236\\\\appdata\\\\local\\\\programs\\\\python\\\\python36\\\\lib\\\\site-packages\\\\ipykernel_launcher.py', '-f', 'C:\\\\Users\\\\DAT-ASSET-236\\\\AppData\\\\Roaming\\\\jupyter\\\\runtime\\\\kernel-0c35add2-9f12-48d3-b59e-93ecb50c29c2.json']\n",
      "\n",
      "\n",
      "['', 'c:\\\\users\\\\dat-asset-236\\\\appdata\\\\local\\\\programs\\\\python\\\\python36\\\\python36.zip', 'c:\\\\users\\\\dat-asset-236\\\\appdata\\\\local\\\\programs\\\\python\\\\python36\\\\DLLs', 'c:\\\\users\\\\dat-asset-236\\\\appdata\\\\local\\\\programs\\\\python\\\\python36\\\\lib', 'c:\\\\users\\\\dat-asset-236\\\\appdata\\\\local\\\\programs\\\\python\\\\python36', 'c:\\\\users\\\\dat-asset-236\\\\appdata\\\\local\\\\programs\\\\python\\\\python36\\\\lib\\\\site-packages', 'c:\\\\users\\\\dat-asset-236\\\\appdata\\\\local\\\\programs\\\\python\\\\python36\\\\lib\\\\site-packages\\\\IPython\\\\extensions', 'C:\\\\Users\\\\DAT-ASSET-236\\\\.ipython']\n"
     ]
    }
   ],
   "source": [
    "import sys \n",
    "sys.stderr.write(\"This is a error text\\n\")\n",
    "sys.stderr.flush()\n",
    "sys.stdout.write(\"This is a output text\\n\")\n",
    "print(sys.argv)\n",
    "print('\\n')\n",
    "print(sys.path)\n"
   ]
  },
  {
   "cell_type": "markdown",
   "metadata": {},
   "source": [
    "sys.argv is the list of file/scrip name and cammandline arguments, location of script name is sys.argv[0]\n",
    "sys.argv is used to read command line arguments and you can perform operations on that arguments. Like see below."
   ]
  },
  {
   "cell_type": "markdown",
   "metadata": {},
   "source": [
    "    import sys\n",
    "     \n",
    "    def main():\n",
    "    \t\n",
    "    \tif len(sys.argv) == 4:\n",
    "    \t\t\n",
    "    \t\tif sys.argv[1] == 'add':\n",
    "    \t\t\tprint (int(sys.argv[2]) + int(sys.argv[3]))\n",
    "    \t\t\n",
    "    \t\telif sys.argv[1] == 'sub':\n",
    "    \t\t\tprint (int(sys.argv[2]) - int(sys.argv[3]))\n",
    "    \telse:\n",
    "    \t\tprint \"INVALID ARGUMENTS\"\n",
    "     \n",
    "    if __name__ == '__main__':\n",
    "    \tmain()"
   ]
  },
  {
   "cell_type": "markdown",
   "metadata": {},
   "source": [
    "# LIST SLICING"
   ]
  },
  {
   "cell_type": "code",
   "execution_count": 2,
   "metadata": {},
   "outputs": [
    {
     "name": "stdout",
     "output_type": "stream",
     "text": [
      "[(1, 1, 0), (1, 1, 1), (1, 1, 2), (3, 9, 0), (3, 9, 1), (3, 9, 2), (4, 16, 0), (4, 16, 1), (4, 16, 2)]\n"
     ]
    }
   ],
   "source": [
    "list2 = [(x, x**2, y) for x in range(5) if x!=0 for y in range(3) if x != 2]\n",
    "print(list2)"
   ]
  },
  {
   "cell_type": "code",
   "execution_count": 6,
   "metadata": {},
   "outputs": [
    {
     "name": "stdout",
     "output_type": "stream",
     "text": [
      "[[0, 1, 2], [0, 1, 2], [0, 1, 2]]\n"
     ]
    }
   ],
   "source": [
    "list3 = [[i for i in range(3)] for i in range(3)]  \n",
    "print(list3)"
   ]
  },
  {
   "cell_type": "code",
   "execution_count": 5,
   "metadata": {},
   "outputs": [
    {
     "name": "stdout",
     "output_type": "stream",
     "text": [
      "[(0, 0, 0), (0, 0, 1), (0, 0, 2), (1, 1, 0), (1, 1, 1), (1, 1, 2), (3, 9, 0), (3, 9, 1), (3, 9, 2), (4, 16, 0), (4, 16, 1), (4, 16, 2)]\n"
     ]
    }
   ],
   "source": [
    "list2 = [(x, x**2, y) for x in range(5)  for y in range(3) if x != 2]\n",
    "print(list2)"
   ]
  },
  {
   "cell_type": "code",
   "execution_count": 15,
   "metadata": {},
   "outputs": [
    {
     "name": "stdout",
     "output_type": "stream",
     "text": [
      "[0, 1, 2, 3, 4, 5, 6, 7, 8, 9]\n",
      "[0, 1, 2, 3, 4]\n",
      "[0, 2, 4, 6, 8]\n",
      "[9, 8, 7, 6, 5, 4, 3, 2, 1, 0]\n"
     ]
    }
   ],
   "source": [
    "list = [i for i in range(10)]\n",
    "print(list)\n",
    "list2 = list[0:5]  # in list slicing last index is exclusive like in range()\n",
    "print(list2)\n",
    "list3one = list[::2]\n",
    "print(list3one)\n",
    "list3two = list[::-1]\n",
    "print(list3two)"
   ]
  },
  {
   "cell_type": "code",
   "execution_count": 17,
   "metadata": {},
   "outputs": [
    {
     "ename": "SyntaxError",
     "evalue": "invalid syntax (<ipython-input-17-e3deb6f39167>, line 2)",
     "output_type": "error",
     "traceback": [
      "\u001b[1;36m  File \u001b[1;32m\"<ipython-input-17-e3deb6f39167>\"\u001b[1;36m, line \u001b[1;32m2\u001b[0m\n\u001b[1;33m    set{0} = 4\u001b[0m\n\u001b[1;37m       ^\u001b[0m\n\u001b[1;31mSyntaxError\u001b[0m\u001b[1;31m:\u001b[0m invalid syntax\n"
     ]
    }
   ],
   "source": [
    "set = {0, 1, 2, 3, 4, 5, 6, 7}  \n",
    "#set{0} = 4\n",
    "print(set)"
   ]
  }
 ],
 "metadata": {
  "kernelspec": {
   "display_name": "Python 3",
   "language": "python",
   "name": "python3"
  },
  "language_info": {
   "codemirror_mode": {
    "name": "ipython",
    "version": 3
   },
   "file_extension": ".py",
   "mimetype": "text/x-python",
   "name": "python",
   "nbconvert_exporter": "python",
   "pygments_lexer": "ipython3",
   "version": "3.6.5"
  }
 },
 "nbformat": 4,
 "nbformat_minor": 2
}
